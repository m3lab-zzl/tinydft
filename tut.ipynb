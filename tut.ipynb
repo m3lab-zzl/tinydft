{
 "cells": [
  {
   "attachments": {},
   "cell_type": "markdown",
   "metadata": {},
   "source": [
    "几个常用函数的含义\n",
    "- outer (对两个一维数组)\n",
    "    - 列向量乘行向量 -> 矩阵\n",
    "- add.outer (对两个一维数组)\n",
    "    - 两个数组的各元素相加"
   ]
  },
  {
   "cell_type": "code",
   "execution_count": 19,
   "metadata": {},
   "outputs": [
    {
     "name": "stdout",
     "output_type": "stream",
     "text": [
      "np.outer(A, B)=array([[3, 4],\n",
      "       [6, 8]])\n",
      "C=array([[4, 5],\n",
      "       [5, 6]])\n"
     ]
    }
   ],
   "source": [
    "import numpy as np\n",
    "\n",
    "A = np.array([1, 2])\n",
    "B = np.array([3, 4])\n",
    "print(f'{np.outer(A, B)=}')\n",
    "C = np.add.outer(A, B) # 1+3， 1+4， 2+3， 2+4\n",
    "print(f'{C=}')"
   ]
  },
  {
   "cell_type": "code",
   "execution_count": null,
   "metadata": {},
   "outputs": [],
   "source": []
  }
 ],
 "metadata": {
  "kernelspec": {
   "display_name": "fun",
   "language": "python",
   "name": "python3"
  },
  "language_info": {
   "codemirror_mode": {
    "name": "ipython",
    "version": 3
   },
   "file_extension": ".py",
   "mimetype": "text/x-python",
   "name": "python",
   "nbconvert_exporter": "python",
   "pygments_lexer": "ipython3",
   "version": "3.11.0"
  },
  "orig_nbformat": 4
 },
 "nbformat": 4,
 "nbformat_minor": 2
}
